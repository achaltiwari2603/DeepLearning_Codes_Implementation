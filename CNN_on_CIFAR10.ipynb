{
  "nbformat": 4,
  "nbformat_minor": 0,
  "metadata": {
    "colab": {
      "provenance": [],
      "toc_visible": true
    },
    "kernelspec": {
      "name": "python3",
      "display_name": "Python 3"
    },
    "language_info": {
      "name": "python"
    },
    "accelerator": "GPU",
    "gpuClass": "standard"
  },
  "cells": [
    {
      "cell_type": "code",
      "execution_count": 1,
      "metadata": {
        "colab": {
          "base_uri": "https://localhost:8080/",
          "height": 0
        },
        "id": "b2VVWlzrL90f",
        "outputId": "2caecf6e-cf3a-4792-9e4f-2aa936239201"
      },
      "outputs": [
        {
          "output_type": "stream",
          "name": "stdout",
          "text": [
            "Downloading data from https://www.cs.toronto.edu/~kriz/cifar-10-python.tar.gz\n",
            "170498071/170498071 [==============================] - 4s 0us/step\n"
          ]
        }
      ],
      "source": [
        "from keras.datasets import cifar10\n",
        "# loading the dataset \n",
        "(X_train, y_train), (X_test, y_test) = cifar10.load_data()"
      ]
    },
    {
      "cell_type": "code",
      "source": [
        "from keras.datasets import cifar10\n",
        "from keras.models import Sequential\n",
        "from keras.layers import Dense, Dropout, Conv2D, MaxPool2D, Flatten\n",
        "from keras.utils import np_utils\n",
        "\n",
        "# loading the dataset\n",
        "(X_train, y_train), (X_test, y_test) = cifar10.load_data()\n",
        "\n",
        "# # building the input vector from the 32x32 pixels\n",
        "X_train = X_train.reshape(X_train.shape[0], 32, 32, 3)\n",
        "X_test = X_test.reshape(X_test.shape[0], 32, 32, 3)\n",
        "X_train = X_train.astype('float32')\n",
        "X_test = X_test.astype('float32')\n",
        "\n",
        "# normalizing the data to help with the training\n",
        "X_train /= 255\n",
        "X_test /= 255\n",
        "\n",
        "# one-hot encoding using keras' numpy-related utilities\n",
        "n_classes = 10\n",
        "print(\"Shape before one-hot encoding: \", y_train.shape)\n",
        "Y_train = np_utils.to_categorical(y_train, n_classes)\n",
        "Y_test = np_utils.to_categorical(y_test, n_classes)\n",
        "print(\"Shape after one-hot encoding: \", Y_train.shape)\n",
        "\n",
        "# building a linear stack of layers with the sequential model\n",
        "model = Sequential()\n",
        "\n",
        "# convolutional layer\n",
        "model.add(Conv2D(50, kernel_size=(3,3), strides=(1,1), padding='same', activation='relu', input_shape=(32, 32, 3)))\n",
        "\n",
        "# convolutional layer\n",
        "model.add(Conv2D(75, kernel_size=(3,3), strides=(1,1), padding='same', activation='relu'))\n",
        "model.add(MaxPool2D(pool_size=(2,2)))\n",
        "model.add(Dropout(0.25))\n",
        "\n",
        "# flatten output of conv\n",
        "model.add(Flatten())\n",
        "\n",
        "# hidden layer\n",
        "model.add(Dense(500, activation='relu'))\n",
        "model.add(Dropout(0.4))\n",
        "model.add(Dense(250, activation='relu'))\n",
        "model.add(Dropout(0.3))\n",
        "model.add(Dense(250, activation='relu'))\n",
        "model.add(Dropout(0.2))\n",
        "model.add(Dense(125, activation='relu'))\n",
        "model.add(Dropout(0.1))\n",
        "# output layer\n",
        "model.add(Dense(10, activation='softmax'))\n",
        "\n",
        "# compiling the sequential model\n",
        "model.compile(loss='categorical_crossentropy', metrics=['accuracy'], optimizer='adam')\n",
        "\n",
        "# training the model for 10 epochs\n",
        "history=model.fit(X_train, Y_train, batch_size=128, epochs=50, validation_data=(X_test, Y_test))"
      ],
      "metadata": {
        "colab": {
          "base_uri": "https://localhost:8080/",
          "height": 0
        },
        "id": "ZP3jlw2SMcW7",
        "outputId": "ed19330a-d55c-4ba5-d80a-1a7b335eb370"
      },
      "execution_count": 2,
      "outputs": [
        {
          "output_type": "stream",
          "name": "stdout",
          "text": [
            "Shape before one-hot encoding:  (50000, 1)\n",
            "Shape after one-hot encoding:  (50000, 10)\n",
            "Epoch 1/50\n",
            "391/391 [==============================] - 17s 20ms/step - loss: 1.7123 - accuracy: 0.3549 - val_loss: 1.3337 - val_accuracy: 0.5094\n",
            "Epoch 2/50\n",
            "391/391 [==============================] - 8s 19ms/step - loss: 1.2827 - accuracy: 0.5370 - val_loss: 1.0840 - val_accuracy: 0.6148\n",
            "Epoch 3/50\n",
            "391/391 [==============================] - 7s 19ms/step - loss: 1.0934 - accuracy: 0.6148 - val_loss: 1.0598 - val_accuracy: 0.6250\n",
            "Epoch 4/50\n",
            "391/391 [==============================] - 8s 19ms/step - loss: 0.9740 - accuracy: 0.6582 - val_loss: 0.9424 - val_accuracy: 0.6711\n",
            "Epoch 5/50\n",
            "391/391 [==============================] - 8s 20ms/step - loss: 0.8723 - accuracy: 0.6935 - val_loss: 0.9309 - val_accuracy: 0.6762\n",
            "Epoch 6/50\n",
            "391/391 [==============================] - 8s 20ms/step - loss: 0.7936 - accuracy: 0.7247 - val_loss: 0.9053 - val_accuracy: 0.6894\n",
            "Epoch 7/50\n",
            "391/391 [==============================] - 8s 19ms/step - loss: 0.7259 - accuracy: 0.7479 - val_loss: 0.8824 - val_accuracy: 0.6958\n",
            "Epoch 8/50\n",
            "391/391 [==============================] - 8s 21ms/step - loss: 0.6547 - accuracy: 0.7743 - val_loss: 0.8940 - val_accuracy: 0.7002\n",
            "Epoch 9/50\n",
            "391/391 [==============================] - 8s 19ms/step - loss: 0.6079 - accuracy: 0.7905 - val_loss: 0.9050 - val_accuracy: 0.7021\n",
            "Epoch 10/50\n",
            "391/391 [==============================] - 8s 19ms/step - loss: 0.5498 - accuracy: 0.8123 - val_loss: 0.9176 - val_accuracy: 0.6972\n",
            "Epoch 11/50\n",
            "391/391 [==============================] - 8s 20ms/step - loss: 0.5155 - accuracy: 0.8226 - val_loss: 0.9174 - val_accuracy: 0.7077\n",
            "Epoch 12/50\n",
            "391/391 [==============================] - 8s 20ms/step - loss: 0.4823 - accuracy: 0.8339 - val_loss: 0.9138 - val_accuracy: 0.7032\n",
            "Epoch 13/50\n",
            "391/391 [==============================] - 8s 20ms/step - loss: 0.4401 - accuracy: 0.8506 - val_loss: 0.9450 - val_accuracy: 0.7089\n",
            "Epoch 14/50\n",
            "391/391 [==============================] - 8s 20ms/step - loss: 0.4130 - accuracy: 0.8587 - val_loss: 0.9467 - val_accuracy: 0.7057\n",
            "Epoch 15/50\n",
            "391/391 [==============================] - 8s 19ms/step - loss: 0.3858 - accuracy: 0.8673 - val_loss: 0.9582 - val_accuracy: 0.7074\n",
            "Epoch 16/50\n",
            "391/391 [==============================] - 8s 19ms/step - loss: 0.3700 - accuracy: 0.8736 - val_loss: 1.0209 - val_accuracy: 0.7012\n",
            "Epoch 17/50\n",
            "391/391 [==============================] - 8s 20ms/step - loss: 0.3503 - accuracy: 0.8816 - val_loss: 0.9700 - val_accuracy: 0.7080\n",
            "Epoch 18/50\n",
            "391/391 [==============================] - 8s 20ms/step - loss: 0.3251 - accuracy: 0.8896 - val_loss: 1.0260 - val_accuracy: 0.7111\n",
            "Epoch 19/50\n",
            "391/391 [==============================] - 8s 20ms/step - loss: 0.3193 - accuracy: 0.8923 - val_loss: 1.0362 - val_accuracy: 0.7122\n",
            "Epoch 20/50\n",
            "391/391 [==============================] - 8s 20ms/step - loss: 0.3010 - accuracy: 0.8978 - val_loss: 1.0420 - val_accuracy: 0.7019\n",
            "Epoch 21/50\n",
            "391/391 [==============================] - 8s 20ms/step - loss: 0.2846 - accuracy: 0.9043 - val_loss: 1.0309 - val_accuracy: 0.7062\n",
            "Epoch 22/50\n",
            "391/391 [==============================] - 8s 20ms/step - loss: 0.2873 - accuracy: 0.9040 - val_loss: 1.0014 - val_accuracy: 0.7099\n",
            "Epoch 23/50\n",
            "391/391 [==============================] - 8s 19ms/step - loss: 0.2664 - accuracy: 0.9110 - val_loss: 1.0580 - val_accuracy: 0.7068\n",
            "Epoch 24/50\n",
            "391/391 [==============================] - 8s 20ms/step - loss: 0.2596 - accuracy: 0.9136 - val_loss: 1.0365 - val_accuracy: 0.7080\n",
            "Epoch 25/50\n",
            "391/391 [==============================] - 8s 19ms/step - loss: 0.2510 - accuracy: 0.9158 - val_loss: 1.0702 - val_accuracy: 0.7124\n",
            "Epoch 26/50\n",
            "391/391 [==============================] - 8s 20ms/step - loss: 0.2389 - accuracy: 0.9207 - val_loss: 1.0773 - val_accuracy: 0.7104\n",
            "Epoch 27/50\n",
            "391/391 [==============================] - 8s 20ms/step - loss: 0.2406 - accuracy: 0.9211 - val_loss: 1.0598 - val_accuracy: 0.7139\n",
            "Epoch 28/50\n",
            "391/391 [==============================] - 8s 20ms/step - loss: 0.2211 - accuracy: 0.9283 - val_loss: 1.1098 - val_accuracy: 0.7021\n",
            "Epoch 29/50\n",
            "391/391 [==============================] - 8s 20ms/step - loss: 0.2274 - accuracy: 0.9255 - val_loss: 1.1491 - val_accuracy: 0.7117\n",
            "Epoch 30/50\n",
            "391/391 [==============================] - 8s 19ms/step - loss: 0.2217 - accuracy: 0.9273 - val_loss: 1.0949 - val_accuracy: 0.7123\n",
            "Epoch 31/50\n",
            "391/391 [==============================] - 8s 19ms/step - loss: 0.2127 - accuracy: 0.9296 - val_loss: 1.0853 - val_accuracy: 0.7063\n",
            "Epoch 32/50\n",
            "391/391 [==============================] - 8s 19ms/step - loss: 0.2142 - accuracy: 0.9302 - val_loss: 1.0943 - val_accuracy: 0.7150\n",
            "Epoch 33/50\n",
            "391/391 [==============================] - 8s 20ms/step - loss: 0.1969 - accuracy: 0.9351 - val_loss: 1.1594 - val_accuracy: 0.7031\n",
            "Epoch 34/50\n",
            "391/391 [==============================] - 8s 20ms/step - loss: 0.1990 - accuracy: 0.9356 - val_loss: 1.1279 - val_accuracy: 0.7086\n",
            "Epoch 35/50\n",
            "391/391 [==============================] - 8s 20ms/step - loss: 0.1930 - accuracy: 0.9373 - val_loss: 1.1117 - val_accuracy: 0.7115\n",
            "Epoch 36/50\n",
            "391/391 [==============================] - 8s 20ms/step - loss: 0.1879 - accuracy: 0.9389 - val_loss: 1.1877 - val_accuracy: 0.7054\n",
            "Epoch 37/50\n",
            "391/391 [==============================] - 8s 19ms/step - loss: 0.1860 - accuracy: 0.9392 - val_loss: 1.1335 - val_accuracy: 0.7123\n",
            "Epoch 38/50\n",
            "391/391 [==============================] - 8s 19ms/step - loss: 0.1837 - accuracy: 0.9413 - val_loss: 1.1249 - val_accuracy: 0.7192\n",
            "Epoch 39/50\n",
            "391/391 [==============================] - 8s 20ms/step - loss: 0.1708 - accuracy: 0.9441 - val_loss: 1.1739 - val_accuracy: 0.7082\n",
            "Epoch 40/50\n",
            "391/391 [==============================] - 8s 20ms/step - loss: 0.1712 - accuracy: 0.9449 - val_loss: 1.1774 - val_accuracy: 0.7128\n",
            "Epoch 41/50\n",
            "391/391 [==============================] - 8s 19ms/step - loss: 0.1710 - accuracy: 0.9456 - val_loss: 1.1207 - val_accuracy: 0.7128\n",
            "Epoch 42/50\n",
            "391/391 [==============================] - 8s 20ms/step - loss: 0.1683 - accuracy: 0.9461 - val_loss: 1.1540 - val_accuracy: 0.7151\n",
            "Epoch 43/50\n",
            "391/391 [==============================] - 8s 20ms/step - loss: 0.1600 - accuracy: 0.9474 - val_loss: 1.2088 - val_accuracy: 0.7040\n",
            "Epoch 44/50\n",
            "391/391 [==============================] - 8s 20ms/step - loss: 0.1588 - accuracy: 0.9487 - val_loss: 1.1394 - val_accuracy: 0.7161\n",
            "Epoch 45/50\n",
            "391/391 [==============================] - 10s 27ms/step - loss: 0.1554 - accuracy: 0.9518 - val_loss: 1.1909 - val_accuracy: 0.7120\n",
            "Epoch 46/50\n",
            "391/391 [==============================] - 10s 26ms/step - loss: 0.1536 - accuracy: 0.9504 - val_loss: 1.2206 - val_accuracy: 0.7124\n",
            "Epoch 47/50\n",
            "391/391 [==============================] - 8s 21ms/step - loss: 0.1558 - accuracy: 0.9507 - val_loss: 1.1747 - val_accuracy: 0.7140\n",
            "Epoch 48/50\n",
            "391/391 [==============================] - 8s 20ms/step - loss: 0.1532 - accuracy: 0.9497 - val_loss: 1.2216 - val_accuracy: 0.7101\n",
            "Epoch 49/50\n",
            "391/391 [==============================] - 8s 20ms/step - loss: 0.1485 - accuracy: 0.9528 - val_loss: 1.2217 - val_accuracy: 0.7145\n",
            "Epoch 50/50\n",
            "391/391 [==============================] - 8s 19ms/step - loss: 0.1462 - accuracy: 0.9533 - val_loss: 1.1508 - val_accuracy: 0.7190\n"
          ]
        }
      ]
    },
    {
      "cell_type": "code",
      "source": [
        "import matplotlib.pyplot as plt\n",
        "plt.plot(history.history['accuracy'])\n",
        "print(history.histort['accuracy'])"
      ],
      "metadata": {
        "colab": {
          "base_uri": "https://localhost:8080/",
          "height": 282
        },
        "id": "exZgLnSLNYRT",
        "outputId": "9ff367e2-8e31-4c6f-d39d-322fe5405afa"
      },
      "execution_count": 3,
      "outputs": [
        {
          "output_type": "execute_result",
          "data": {
            "text/plain": [
              "[<matplotlib.lines.Line2D at 0x7f37d4285cd0>]"
            ]
          },
          "metadata": {},
          "execution_count": 3
        },
        {
          "output_type": "display_data",
          "data": {
            "text/plain": [
              "<Figure size 432x288 with 1 Axes>"
            ],
            "image/png": "[encoded data removed]"
          },
          "metadata": {
            "needs_background": "light"
          }
        }
      ]
    },
    {
      "cell_type": "code",
      "source": [],
      "metadata": {
        "id": "vrfCQKNvR6UO"
      },
      "execution_count": 3,
      "outputs": []
    }
  ]
}