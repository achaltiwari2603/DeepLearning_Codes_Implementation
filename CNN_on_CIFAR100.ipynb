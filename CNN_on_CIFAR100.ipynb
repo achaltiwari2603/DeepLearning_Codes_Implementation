{
  "nbformat": 4,
  "nbformat_minor": 0,
  "metadata": {
    "colab": {
      "provenance": [],
      "toc_visible": true
    },
    "kernelspec": {
      "name": "python3",
      "display_name": "Python 3"
    },
    "language_info": {
      "name": "python"
    },
    "accelerator": "GPU",
    "gpuClass": "standard"
  },
  "cells": [
    {
      "cell_type": "code",
      "execution_count": 4,
      "metadata": {
        "colab": {
          "base_uri": "https://localhost:8080/"
        },
        "id": "b2VVWlzrL90f",
        "outputId": "7978e70c-bc70-47d5-c5da-1d00a73d0892"
      },
      "outputs": [
        {
          "output_type": "stream",
          "name": "stdout",
          "text": [
            "Downloading data from https://www.cs.toronto.edu/~kriz/cifar-100-python.tar.gz\n",
            "169001437/169001437 [==============================] - 4s 0us/step\n"
          ]
        }
      ],
      "source": [
        "from keras.datasets import cifar100\n",
        "# loading the dataset \n",
        "(X_train, y_train), (X_test, y_test) = cifar100.load_data()"
      ]
    },
    {
      "cell_type": "code",
      "source": [
        "from keras.datasets import cifar10\n",
        "from keras.models import Sequential\n",
        "from keras.layers import Dense, Dropout, Conv2D, MaxPool2D, Flatten\n",
        "from keras.utils import np_utils\n",
        "\n",
        "# loading the dataset\n",
        "(X_train, y_train), (X_test, y_test) = cifar10.load_data()\n",
        "\n",
        "# # building the input vector from the 32x32 pixels\n",
        "X_train = X_train.reshape(X_train.shape[0], 32, 32, 3)\n",
        "X_test = X_test.reshape(X_test.shape[0], 32, 32, 3)\n",
        "X_train = X_train.astype('float32')\n",
        "X_test = X_test.astype('float32')\n",
        "\n",
        "# normalizing the data to help with the training\n",
        "X_train /= 255\n",
        "X_test /= 255\n",
        "\n",
        "# one-hot encoding using keras' numpy-related utilities\n",
        "n_classes = 10\n",
        "print(\"Shape before one-hot encoding: \", y_train.shape)\n",
        "Y_train = np_utils.to_categorical(y_train, n_classes)\n",
        "Y_test = np_utils.to_categorical(y_test, n_classes)\n",
        "print(\"Shape after one-hot encoding: \", Y_train.shape)\n",
        "\n",
        "# building a linear stack of layers with the sequential model\n",
        "model = Sequential()\n",
        "\n",
        "# convolutional layer\n",
        "model.add(Conv2D(50, kernel_size=(3,3), strides=(1,1), padding='same', activation='relu', input_shape=(32, 32, 3)))\n",
        "\n",
        "# convolutional layer\n",
        "model.add(Conv2D(75, kernel_size=(3,3), strides=(1,1), padding='same', activation='relu'))\n",
        "model.add(MaxPool2D(pool_size=(2,2)))\n",
        "model.add(Dropout(0.25))\n",
        "\n",
        "# flatten output of conv\n",
        "model.add(Flatten())\n",
        "\n",
        "# hidden layer\n",
        "model.add(Dense(500, activation='relu'))\n",
        "model.add(Dropout(0.4))\n",
        "model.add(Dense(250, activation='relu'))\n",
        "model.add(Dropout(0.3))\n",
        "\n",
        "# output layer\n",
        "model.add(Dense(10, activation='softmax'))\n",
        "\n",
        "# compiling the sequential model\n",
        "model.compile(loss='categorical_crossentropy', metrics=['accuracy'], optimizer='adam')\n",
        "\n",
        "# training the model for 10 epochs\n",
        "history=model.fit(X_train, Y_train, batch_size=128, epochs=50, validation_data=(X_test, Y_test))"
      ],
      "metadata": {
        "colab": {
          "base_uri": "https://localhost:8080/"
        },
        "id": "ZP3jlw2SMcW7",
        "outputId": "3aefce7b-bc82-4fef-9432-fb226fcb3648"
      },
      "execution_count": 8,
      "outputs": [
        {
          "output_type": "stream",
          "name": "stdout",
          "text": [
            "Shape before one-hot encoding:  (50000, 1)\n",
            "Shape after one-hot encoding:  (50000, 10)\n",
            "Epoch 1/50\n",
            "391/391 [==============================] - 8s 20ms/step - loss: 1.5129 - accuracy: 0.4488 - val_loss: 1.0943 - val_accuracy: 0.6093\n",
            "Epoch 2/50\n",
            "391/391 [==============================] - 7s 19ms/step - loss: 1.0942 - accuracy: 0.6136 - val_loss: 0.9529 - val_accuracy: 0.6664\n",
            "Epoch 3/50\n",
            "391/391 [==============================] - 8s 19ms/step - loss: 0.9193 - accuracy: 0.6780 - val_loss: 0.8966 - val_accuracy: 0.6837\n",
            "Epoch 4/50\n",
            "391/391 [==============================] - 8s 19ms/step - loss: 0.7940 - accuracy: 0.7232 - val_loss: 0.8743 - val_accuracy: 0.6944\n",
            "Epoch 5/50\n",
            "391/391 [==============================] - 8s 20ms/step - loss: 0.6928 - accuracy: 0.7572 - val_loss: 0.8252 - val_accuracy: 0.7167\n",
            "Epoch 6/50\n",
            "391/391 [==============================] - 7s 19ms/step - loss: 0.5920 - accuracy: 0.7914 - val_loss: 0.8587 - val_accuracy: 0.7112\n",
            "Epoch 7/50\n",
            "391/391 [==============================] - 8s 19ms/step - loss: 0.5174 - accuracy: 0.8179 - val_loss: 0.8344 - val_accuracy: 0.7230\n",
            "Epoch 8/50\n",
            "391/391 [==============================] - 8s 19ms/step - loss: 0.4425 - accuracy: 0.8444 - val_loss: 0.8920 - val_accuracy: 0.7193\n",
            "Epoch 9/50\n",
            "391/391 [==============================] - 8s 19ms/step - loss: 0.3905 - accuracy: 0.8633 - val_loss: 0.9080 - val_accuracy: 0.7142\n",
            "Epoch 10/50\n",
            "391/391 [==============================] - 7s 19ms/step - loss: 0.3466 - accuracy: 0.8793 - val_loss: 0.9104 - val_accuracy: 0.7166\n",
            "Epoch 11/50\n",
            "391/391 [==============================] - 8s 19ms/step - loss: 0.3033 - accuracy: 0.8934 - val_loss: 0.9585 - val_accuracy: 0.7246\n",
            "Epoch 12/50\n",
            "391/391 [==============================] - 8s 19ms/step - loss: 0.2758 - accuracy: 0.9031 - val_loss: 1.0316 - val_accuracy: 0.7091\n",
            "Epoch 13/50\n",
            "391/391 [==============================] - 8s 19ms/step - loss: 0.2505 - accuracy: 0.9127 - val_loss: 0.9854 - val_accuracy: 0.7260\n",
            "Epoch 14/50\n",
            "391/391 [==============================] - 7s 19ms/step - loss: 0.2408 - accuracy: 0.9171 - val_loss: 1.0049 - val_accuracy: 0.7203\n",
            "Epoch 15/50\n",
            "391/391 [==============================] - 7s 19ms/step - loss: 0.2092 - accuracy: 0.9270 - val_loss: 1.0453 - val_accuracy: 0.7234\n",
            "Epoch 16/50\n",
            "391/391 [==============================] - 8s 19ms/step - loss: 0.2042 - accuracy: 0.9298 - val_loss: 1.0219 - val_accuracy: 0.7219\n",
            "Epoch 17/50\n",
            "391/391 [==============================] - 7s 19ms/step - loss: 0.1890 - accuracy: 0.9332 - val_loss: 1.0694 - val_accuracy: 0.7237\n",
            "Epoch 18/50\n",
            "391/391 [==============================] - 8s 19ms/step - loss: 0.1792 - accuracy: 0.9391 - val_loss: 1.1143 - val_accuracy: 0.7238\n",
            "Epoch 19/50\n",
            "391/391 [==============================] - 8s 19ms/step - loss: 0.1691 - accuracy: 0.9422 - val_loss: 1.0977 - val_accuracy: 0.7272\n",
            "Epoch 20/50\n",
            "391/391 [==============================] - 7s 19ms/step - loss: 0.1659 - accuracy: 0.9431 - val_loss: 1.1074 - val_accuracy: 0.7225\n",
            "Epoch 21/50\n",
            "391/391 [==============================] - 8s 20ms/step - loss: 0.1577 - accuracy: 0.9462 - val_loss: 1.1540 - val_accuracy: 0.7215\n",
            "Epoch 22/50\n",
            "391/391 [==============================] - 7s 19ms/step - loss: 0.1470 - accuracy: 0.9494 - val_loss: 1.1743 - val_accuracy: 0.7232\n",
            "Epoch 23/50\n",
            "391/391 [==============================] - 7s 19ms/step - loss: 0.1449 - accuracy: 0.9508 - val_loss: 1.2155 - val_accuracy: 0.7205\n",
            "Epoch 24/50\n",
            "391/391 [==============================] - 7s 19ms/step - loss: 0.1370 - accuracy: 0.9535 - val_loss: 1.1657 - val_accuracy: 0.7187\n",
            "Epoch 25/50\n",
            "391/391 [==============================] - 8s 19ms/step - loss: 0.1344 - accuracy: 0.9553 - val_loss: 1.1373 - val_accuracy: 0.7246\n",
            "Epoch 26/50\n",
            "391/391 [==============================] - 7s 19ms/step - loss: 0.1302 - accuracy: 0.9554 - val_loss: 1.1722 - val_accuracy: 0.7223\n",
            "Epoch 27/50\n",
            "391/391 [==============================] - 7s 19ms/step - loss: 0.1301 - accuracy: 0.9561 - val_loss: 1.1665 - val_accuracy: 0.7199\n",
            "Epoch 28/50\n",
            "391/391 [==============================] - 8s 19ms/step - loss: 0.1262 - accuracy: 0.9574 - val_loss: 1.1575 - val_accuracy: 0.7194\n",
            "Epoch 29/50\n",
            "391/391 [==============================] - 7s 19ms/step - loss: 0.1208 - accuracy: 0.9594 - val_loss: 1.2273 - val_accuracy: 0.7215\n",
            "Epoch 30/50\n",
            "391/391 [==============================] - 8s 19ms/step - loss: 0.1131 - accuracy: 0.9614 - val_loss: 1.1943 - val_accuracy: 0.7270\n",
            "Epoch 31/50\n",
            "391/391 [==============================] - 7s 19ms/step - loss: 0.1182 - accuracy: 0.9604 - val_loss: 1.2135 - val_accuracy: 0.7274\n",
            "Epoch 32/50\n",
            "391/391 [==============================] - 8s 19ms/step - loss: 0.1155 - accuracy: 0.9609 - val_loss: 1.2368 - val_accuracy: 0.7243\n",
            "Epoch 33/50\n",
            "391/391 [==============================] - 8s 19ms/step - loss: 0.1098 - accuracy: 0.9642 - val_loss: 1.2013 - val_accuracy: 0.7256\n",
            "Epoch 34/50\n",
            "391/391 [==============================] - 8s 20ms/step - loss: 0.1074 - accuracy: 0.9628 - val_loss: 1.2940 - val_accuracy: 0.7151\n",
            "Epoch 35/50\n",
            "391/391 [==============================] - 8s 20ms/step - loss: 0.1067 - accuracy: 0.9650 - val_loss: 1.2455 - val_accuracy: 0.7220\n",
            "Epoch 36/50\n",
            "391/391 [==============================] - 7s 19ms/step - loss: 0.1023 - accuracy: 0.9657 - val_loss: 1.2515 - val_accuracy: 0.7284\n",
            "Epoch 37/50\n",
            "391/391 [==============================] - 7s 19ms/step - loss: 0.1027 - accuracy: 0.9657 - val_loss: 1.2532 - val_accuracy: 0.7229\n",
            "Epoch 38/50\n",
            "391/391 [==============================] - 7s 19ms/step - loss: 0.1006 - accuracy: 0.9663 - val_loss: 1.2732 - val_accuracy: 0.7234\n",
            "Epoch 39/50\n",
            "391/391 [==============================] - 8s 19ms/step - loss: 0.1015 - accuracy: 0.9664 - val_loss: 1.3135 - val_accuracy: 0.7213\n",
            "Epoch 40/50\n",
            "391/391 [==============================] - 8s 19ms/step - loss: 0.0978 - accuracy: 0.9675 - val_loss: 1.3061 - val_accuracy: 0.7156\n",
            "Epoch 41/50\n",
            "391/391 [==============================] - 8s 20ms/step - loss: 0.0935 - accuracy: 0.9691 - val_loss: 1.2390 - val_accuracy: 0.7263\n",
            "Epoch 42/50\n",
            "391/391 [==============================] - 8s 20ms/step - loss: 0.0949 - accuracy: 0.9682 - val_loss: 1.2993 - val_accuracy: 0.7217\n",
            "Epoch 43/50\n",
            "391/391 [==============================] - 8s 19ms/step - loss: 0.0900 - accuracy: 0.9699 - val_loss: 1.2886 - val_accuracy: 0.7216\n",
            "Epoch 44/50\n",
            "391/391 [==============================] - 8s 19ms/step - loss: 0.0895 - accuracy: 0.9709 - val_loss: 1.2920 - val_accuracy: 0.7265\n",
            "Epoch 45/50\n",
            "391/391 [==============================] - 8s 19ms/step - loss: 0.0933 - accuracy: 0.9693 - val_loss: 1.3033 - val_accuracy: 0.7212\n",
            "Epoch 46/50\n",
            "391/391 [==============================] - 7s 19ms/step - loss: 0.0894 - accuracy: 0.9693 - val_loss: 1.3411 - val_accuracy: 0.7178\n",
            "Epoch 47/50\n",
            "391/391 [==============================] - 8s 19ms/step - loss: 0.0877 - accuracy: 0.9712 - val_loss: 1.2749 - val_accuracy: 0.7242\n",
            "Epoch 48/50\n",
            "391/391 [==============================] - 8s 19ms/step - loss: 0.0869 - accuracy: 0.9714 - val_loss: 1.2098 - val_accuracy: 0.7232\n",
            "Epoch 49/50\n",
            "391/391 [==============================] - 8s 20ms/step - loss: 0.0824 - accuracy: 0.9736 - val_loss: 1.3207 - val_accuracy: 0.7258\n",
            "Epoch 50/50\n",
            "391/391 [==============================] - 8s 20ms/step - loss: 0.0854 - accuracy: 0.9726 - val_loss: 1.3129 - val_accuracy: 0.7218\n"
          ]
        }
      ]
    },
    {
      "cell_type": "code",
      "source": [
        "import matplotlib.pyplot as plt\n",
        "plt.plot(history.history['accuracy'],'-b',label='accuracy')\n",
        "plt.plot(history.history['loss'],'--r',label='loss')\n",
        "plt.plot(history.history['val_accuracy'],'-g',label='val_accuracy')\n",
        "plt.plot(history.history['val_loss'],'--y',label='val_loss')\n",
        "#print(history.histort['accuracy'])"
      ],
      "metadata": {
        "colab": {
          "base_uri": "https://localhost:8080/",
          "height": 282
        },
        "id": "exZgLnSLNYRT",
        "outputId": "ad45bb6d-d177-4070-91ba-24c7772ec4b9"
      },
      "execution_count": 11,
      "outputs": [
        {
          "output_type": "execute_result",
          "data": {
            "text/plain": [
              "[<matplotlib.lines.Line2D at 0x7f376b7fc550>]"
            ]
          },
          "metadata": {},
          "execution_count": 11
        },
        {
          "output_type": "display_data",
          "data": {
            "text/plain": [
              "<Figure size 432x288 with 1 Axes>"
            ],
            "image/png": "[encoded data removed]"
          },
          "metadata": {
            "needs_background": "light"
          }
        }
      ]
    },
    {
      "cell_type": "code",
      "source": [],
      "metadata": {
        "id": "vrfCQKNvR6UO"
      },
      "execution_count": null,
      "outputs": []
    }
  ]
}