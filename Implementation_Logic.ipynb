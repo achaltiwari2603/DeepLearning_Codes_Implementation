{
  "nbformat": 4,
  "nbformat_minor": 0,
  "metadata": {
    "colab": {
      "provenance": []
    },
    "kernelspec": {
      "name": "python3",
      "display_name": "Python 3"
    },
    "language_info": {
      "name": "python"
    }
  },
  "cells": [
    {
      "cell_type": "markdown",
      "source": [
        "Implementation of NOT gate using Perceptron"
      ],
      "metadata": {
        "id": "ckt8QMDNv3DM"
      }
    },
    {
      "cell_type": "code",
      "source": [
        "import numpy as np\n",
        "def unitStep(v):\n",
        "  if(v>=0):\n",
        "    return 1\n",
        "  else:\n",
        "    return 0\n",
        "def perceptron(x,w,b):\n",
        "  v=np.dot(x,w)+b\n",
        "  y=unitStep(v)\n",
        "  return y\n",
        "def Not_logic(x):\n",
        "  w=-1\n",
        "  b=0.5\n",
        "  return perceptron(x,w,b)\n",
        "test1=np.array(1)\n",
        "test0=np.array(0)\n",
        "print(\"NOT({}) = {}\".format(1, Not_logic(test1)))\n",
        "print(\"NOT({}) = {}\".format(0, Not_logic(test0)))"
      ],
      "metadata": {
        "colab": {
          "base_uri": "https://localhost:8080/"
        },
        "id": "JHBH4i0Nv48W",
        "outputId": "a62e215d-2aa7-4ed0-8c97-c9daa887e77c"
      },
      "execution_count": null,
      "outputs": [
        {
          "output_type": "stream",
          "name": "stdout",
          "text": [
            "NOT(1) = 0\n",
            "NOT(0) = 1\n"
          ]
        }
      ]
    },
    {
      "cell_type": "markdown",
      "source": [
        "Implementation of AND Gate using Perceptron"
      ],
      "metadata": {
        "id": "JXON4_CAy1e1"
      }
    },
    {
      "cell_type": "code",
      "source": [
        "import numpy as np\n",
        "def and_logic(x):\n",
        "  w=[1,1]\n",
        "  b=-1.5\n",
        "  return perceptron(x,w,b)\n",
        "test1=np.array([0,0])\n",
        "test2=np.array([0,1])\n",
        "test3=np.array([1,0])\n",
        "test4=np.array([1,1])\n",
        "print(\"{} and {} = {}\".format(0,0,and_logic(test1)))\n",
        "print(\"{} and {} = {}\".format(0,1,and_logic(test2)))\n",
        "print(\"{} and {} = {}\".format(1,0,and_logic(test3)))\n",
        "print(\"{} and {} = {}\".format(1,1,and_logic(test4)))"
      ],
      "metadata": {
        "colab": {
          "base_uri": "https://localhost:8080/"
        },
        "id": "-stnL9HOxARY",
        "outputId": "dee119f9-cb0e-4f70-9645-d87710b9ba18"
      },
      "execution_count": null,
      "outputs": [
        {
          "output_type": "stream",
          "name": "stdout",
          "text": [
            "0 and 0 = 0\n",
            "0 and 1 = 0\n",
            "1 and 0 = 0\n",
            "1 and 1 = 1\n"
          ]
        }
      ]
    },
    {
      "cell_type": "markdown",
      "source": [
        "Implementation of OR Logic using Perceptron"
      ],
      "metadata": {
        "id": "T5hzWCAyJU4-"
      }
    },
    {
      "cell_type": "code",
      "source": [
        "import numpy as np\n",
        "def or_logic(x):\n",
        "  w=[1,1]\n",
        "  b=-0.5\n",
        "  return perceptron(x,w,b)\n",
        "print(\"{} or {} = {}\".format(0,0,or_logic(test1)))\n",
        "print(\"{} or {} = {}\".format(0,0,or_logic(test2)))\n",
        "print(\"{} or {} = {}\".format(0,0,or_logic(test3)))\n",
        "print(\"{} or {} = {}\".format(0,0,or_logic(test4)))"
      ],
      "metadata": {
        "id": "kmQIuxZ1znVD",
        "colab": {
          "base_uri": "https://localhost:8080/",
          "height": 0
        },
        "outputId": "b2ff9686-9207-417d-9161-f225b0e70898"
      },
      "execution_count": 10,
      "outputs": [
        {
          "output_type": "stream",
          "name": "stdout",
          "text": [
            "0 or 0 = 0\n",
            "0 or 0 = 1\n",
            "0 or 0 = 1\n",
            "0 or 0 = 1\n"
          ]
        }
      ]
    },
    {
      "cell_type": "code",
      "source": [],
      "metadata": {
        "id": "K7OOOYXJJ2OU"
      },
      "execution_count": null,
      "outputs": []
    }
  ]
}